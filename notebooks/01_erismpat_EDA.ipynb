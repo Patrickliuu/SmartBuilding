{
 "cells": [
  {
   "metadata": {
    "ExecuteTime": {
     "end_time": "2024-05-07T20:45:29.960610Z",
     "start_time": "2024-05-07T20:45:29.923294Z"
    }
   },
   "cell_type": "code",
   "source": [
    "from pathlib import Path\n",
    "import pandas as pd\n",
    "import src.data.DB_tools as dbt\n",
    "from tqdm import tqdm\n",
    "from src.data.util_tools import *\n",
    "from bokeh.plotting import figure, show, output_file\n",
    "from bokeh.models import ColumnDataSource\n",
    "from bokeh.palettes import Category10  # For color palettes\n",
    "\n",
    "%load_ext autoreload\n",
    "%autoreload 2"
   ],
   "id": "26820254af88d256",
   "execution_count": 6,
   "outputs": []
  },
  {
   "metadata": {},
   "cell_type": "code",
   "execution_count": null,
   "source": "%%capture",
   "id": "184c8474e7e5fcc2",
   "outputs": []
  },
  {
   "metadata": {
    "ExecuteTime": {
     "end_time": "2024-05-07T20:45:33.614490Z",
     "start_time": "2024-05-07T20:45:32.242431Z"
    }
   },
   "cell_type": "code",
   "source": "all_sensor_data = download_all_data()",
   "id": "96f678957236bb7d",
   "execution_count": 7,
   "outputs": []
  },
  {
   "metadata": {
    "ExecuteTime": {
     "end_time": "2024-05-07T20:46:55.847016Z",
     "start_time": "2024-05-07T20:46:54.306361Z"
    }
   },
   "cell_type": "code",
   "source": [
    "all_sensor_data = load_sensor_data(Path.cwd().parent/'data'/'raw')\n",
    "all_sensor_data['temperature']"
   ],
   "id": "85125f8eb488c58a",
   "execution_count": 8,
   "outputs": []
  },
  {
   "metadata": {
    "jupyter": {
     "is_executing": true
    },
    "ExecuteTime": {
     "start_time": "2024-05-07T20:48:29.872454Z"
    }
   },
   "cell_type": "code",
   "source": "plot_all_sensors(all_sensor_data['temperature'])",
   "id": "4b33e3762fef741",
   "execution_count": null,
   "outputs": []
  },
  {
   "metadata": {},
   "cell_type": "markdown",
   "source": "or without bokeh:",
   "id": "9d33cf08f82a1940"
  },
  {
   "metadata": {},
   "cell_type": "code",
   "source": "%matplotlib widget",
   "id": "8202cc4070cc3f0b",
   "execution_count": null,
   "outputs": []
  },
  {
   "metadata": {},
   "cell_type": "code",
   "source": "plt.plot(all_sensor_data['temperature'])",
   "id": "ac0d33b8435cf165",
   "execution_count": null,
   "outputs": []
  }
 ],
 "metadata": {
  "kernelspec": {
   "display_name": "Python 3 (ipykernel)",
   "language": "python",
   "name": "python3"
  },
  "language_info": {
   "codemirror_mode": {
    "name": "ipython",
    "version": 2
   },
   "file_extension": ".py",
   "mimetype": "text/x-python",
   "name": "python",
   "nbconvert_exporter": "python",
   "pygments_lexer": "ipython2",
   "version": "2.7.6"
  }
 },
 "nbformat": 4,
 "nbformat_minor": 5
}
